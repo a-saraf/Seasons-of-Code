{
 "cells": [
  {
   "cell_type": "markdown",
   "id": "useful-sister",
   "metadata": {},
   "source": [
    "## Read, Display, Write and Save using openCV\n"
   ]
  },
  {
   "cell_type": "code",
   "execution_count": 33,
   "id": "assisted-damages",
   "metadata": {},
   "outputs": [],
   "source": [
    "import numpy as np\n",
    "import cv2 as cv"
   ]
  },
  {
   "cell_type": "markdown",
   "id": "infectious-stack",
   "metadata": {},
   "source": [
    "Reading and Displaying images"
   ]
  },
  {
   "cell_type": "code",
   "execution_count": 34,
   "id": "backed-newark",
   "metadata": {},
   "outputs": [],
   "source": [
    "img = cv.imread(\"yoda.jpg\")\n",
    "\n",
    "cv.imshow(\"Baby Yoda\", img)\n",
    "\n",
    "cv.waitKey(0)\n",
    "cv.destroyAllWindows()"
   ]
  },
  {
   "cell_type": "markdown",
   "id": "gentle-purse",
   "metadata": {},
   "source": [
    "Writing and Saving images"
   ]
  },
  {
   "cell_type": "code",
   "execution_count": 35,
   "id": "nasty-circumstances",
   "metadata": {},
   "outputs": [],
   "source": [
    "cv.imshow(\"Baby Yoda\", img)\n",
    "\n",
    "k = cv.waitKey(0)\n",
    "\n",
    "if( k == ord('s')):\n",
    "    cv.imwrite(\"yoda_copy.jpg\", img)\n",
    "    print(\"Image is saved\")\n",
    "    cv.destroyAllWindows()"
   ]
  },
  {
   "cell_type": "markdown",
   "id": "transsexual-grant",
   "metadata": {},
   "source": [
    "## Image Resizing, Blurring and Eroding"
   ]
  },
  {
   "cell_type": "markdown",
   "id": "official-barbados",
   "metadata": {},
   "source": [
    "Resizing"
   ]
  },
  {
   "cell_type": "code",
   "execution_count": 36,
   "id": "solved-pharmaceutical",
   "metadata": {},
   "outputs": [
    {
     "name": "stdout",
     "output_type": "stream",
     "text": [
      "Original Dimensions:  (700, 700, 3)\n",
      "Scaled dimensions:  (420, 420, 3)\n"
     ]
    }
   ],
   "source": [
    "print(\"Original Dimensions: \", img.shape)\n",
    "\n",
    "scale = 60\n",
    "length_scaled = int(img.shape[0]*scale/100)\n",
    "width_scaled = int(img.shape[1]*scale/100)\n",
    "dim_scaled = width_scaled, length_scaled\n",
    "\n",
    "resized = cv.resize(img, dim_scaled, interpolation = cv.INTER_AREA)\n",
    "print(\"Scaled dimensions: \", resized.shape)\n",
    "\n",
    "cv.imshow(\"OG Baby Yoda\", img)\n",
    "cv.imshow(\"Smol Baby Yoda\", resized)\n",
    "\n",
    "cv.waitKey(0)\n",
    "cv.destroyAllWindows()"
   ]
  },
  {
   "cell_type": "markdown",
   "id": "cardiovascular-slave",
   "metadata": {},
   "source": [
    "* * *"
   ]
  },
  {
   "cell_type": "markdown",
   "id": "identical-minister",
   "metadata": {},
   "source": [
    "There are three types of blurring :-\n",
    "<ol>\n",
    "    <li>Gaussian Blur\n",
    "    <li>Median Blur\n",
    "    <li>Bilateral Blur\n",
    "\n",
    "</ol>"
   ]
  },
  {
   "cell_type": "code",
   "execution_count": 37,
   "id": "acoustic-middle",
   "metadata": {},
   "outputs": [],
   "source": [
    "# Gaussian Blur\n",
    "Gaussian = cv.GaussianBlur(img, (7, 7), 0)\n",
    "cv.imshow('Gaussian Blurring', Gaussian)\n",
    "cv.waitKey(0)\n",
    "  \n",
    "# Median Blur\n",
    "median = cv.medianBlur(img, 5)\n",
    "cv.imshow('Median Blurring', median)\n",
    "cv.waitKey(0)\n",
    "\n",
    "# Bilateral Blur\n",
    "bilateral = cv.bilateralFilter(img, 9, 75, 75)\n",
    "cv.imshow('Bilateral Blurring', bilateral)\n",
    "cv.waitKey(0)\n",
    "cv.destroyAllWindows()"
   ]
  },
  {
   "cell_type": "markdown",
   "id": "binding-rainbow",
   "metadata": {},
   "source": [
    "Eroding"
   ]
  },
  {
   "cell_type": "code",
   "execution_count": 38,
   "id": "modular-sheep",
   "metadata": {},
   "outputs": [],
   "source": [
    "kernel = np.ones((5, 5), np.uint8)\n",
    "\n",
    "img_erosion = cv.erode(img, kernel, iterations=1)\n",
    "\n",
    "cv.imshow(\"Eroded\", img_erosion)\n",
    "cv.waitKey(0)\n",
    "cv.destroyAllWindows()"
   ]
  },
  {
   "cell_type": "markdown",
   "id": "final-ticket",
   "metadata": {},
   "source": [
    "## Creating Borders and Grayscaling"
   ]
  },
  {
   "cell_type": "markdown",
   "id": "toxic-broadcast",
   "metadata": {},
   "source": [
    "Creating Borders\n"
   ]
  },
  {
   "cell_type": "code",
   "execution_count": 39,
   "id": "unavailable-second",
   "metadata": {},
   "outputs": [],
   "source": [
    "border = cv.copyMakeBorder(img, 15, 15, 15, 15, cv.BORDER_CONSTANT)\n",
    "\n",
    "cv.imshow(\"Border\", border)\n",
    "cv.waitKey(0)\n",
    "cv.destroyAllWindows()"
   ]
  },
  {
   "cell_type": "markdown",
   "id": "downtown-fountain",
   "metadata": {},
   "source": [
    "Grayscaling"
   ]
  },
  {
   "cell_type": "code",
   "execution_count": 40,
   "id": "fixed-fourth",
   "metadata": {},
   "outputs": [],
   "source": [
    "gray = cv.cvtColor(img, cv.COLOR_BGR2GRAY)\n",
    "\n",
    "cv.imshow(\"Grayscale\", gray)\n",
    "cv.waitKey(0)\n",
    "cv.destroyAllWindows()"
   ]
  }
 ],
 "metadata": {
  "kernelspec": {
   "display_name": "Python 3",
   "language": "python",
   "name": "python3"
  },
  "language_info": {
   "codemirror_mode": {
    "name": "ipython",
    "version": 3
   },
   "file_extension": ".py",
   "mimetype": "text/x-python",
   "name": "python",
   "nbconvert_exporter": "python",
   "pygments_lexer": "ipython3",
   "version": "3.9.5"
  }
 },
 "nbformat": 4,
 "nbformat_minor": 5
}
